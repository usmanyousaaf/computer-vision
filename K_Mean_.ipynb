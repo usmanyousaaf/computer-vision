{
  "nbformat": 4,
  "nbformat_minor": 0,
  "metadata": {
    "colab": {
      "provenance": [],
      "authorship_tag": "ABX9TyMKnm4bkQrSg8L8lCIFY8G4",
      "include_colab_link": true
    },
    "kernelspec": {
      "name": "python3",
      "display_name": "Python 3"
    },
    "language_info": {
      "name": "python"
    },
    "gpuClass": "standard"
  },
  "cells": [
    {
      "cell_type": "markdown",
      "metadata": {
        "id": "view-in-github",
        "colab_type": "text"
      },
      "source": [
        "<a href=\"https://colab.research.google.com/github/usmanyousaaf/computer-vision-projects/blob/main/K_Mean_.ipynb\" target=\"_parent\"><img src=\"https://colab.research.google.com/assets/colab-badge.svg\" alt=\"Open In Colab\"/></a>"
      ]
    },
    {
      "cell_type": "code",
      "execution_count": null,
      "metadata": {
        "id": "0w_fn07PHj6m"
      },
      "outputs": [],
      "source": [
        "import numpy as np\n",
        "from sklearn.cluster import KMeans\n",
        "from PIL import Image\n",
        "import os\n",
        "import matplotlib.pyplot as plt"
      ]
    },
    {
      "cell_type": "code",
      "source": [
        "import zipfile\n",
        "zip_ref = zipfile.ZipFile('/content/datasetz.zip', 'r')\n",
        "zip_ref.extractall('/content')\n",
        "zip_ref.close()"
      ],
      "metadata": {
        "id": "NHOnACkYRlYj"
      },
      "execution_count": null,
      "outputs": []
    },
    {
      "cell_type": "markdown",
      "source": [
        "### Set the path to the director   containing the images"
      ],
      "metadata": {
        "id": "PlBoaZLKH3tS"
      }
    },
    {
      "cell_type": "code",
      "source": [
        "train_dir = \"/content/datasetz/traning\"\n",
        "test_dir = \"/content/datasetz/test\"\n"
      ],
      "metadata": {
        "id": "oKr35Fi-HqtP"
      },
      "execution_count": null,
      "outputs": []
    },
    {
      "cell_type": "markdown",
      "source": [
        "### Get a list of all the image file names in the directory"
      ],
      "metadata": {
        "id": "Nl-qRTmmH-au"
      }
    },
    {
      "cell_type": "code",
      "source": [
        "# Get a list of all the image file names in the training directory\n",
        "train_img_files = os.listdir(train_dir)\n",
        "\n",
        "# Initialize an empty array to store the training image data\n",
        "train_X = np.empty((0,3), dtype=np.uint8)"
      ],
      "metadata": {
        "id": "BqU8euShICM7"
      },
      "execution_count": null,
      "outputs": []
    },
    {
      "cell_type": "markdown",
      "source": [
        "### Loop through all the images in the training directory"
      ],
      "metadata": {
        "id": "creCV0FghLv1"
      }
    },
    {
      "cell_type": "code",
      "source": [
        "\n",
        "for img_file in train_img_files:\n",
        "    # Load the image and convert it to a numpy array\n",
        "    img = np.array(Image.open(os.path.join(train_dir, img_file)))\n",
        "\n",
        "    # Reshape the array so that each pixel is represented by a single row\n",
        "    rows, cols, bands = img.shape\n",
        "    img_data = img.reshape(rows*cols, bands)\n",
        "\n",
        "    # Append the image data to the training X array\n",
        "    train_X = np.vstack((train_X, img_data))"
      ],
      "metadata": {
        "id": "7KbOV-8UhIZg"
      },
      "execution_count": null,
      "outputs": []
    },
    {
      "cell_type": "markdown",
      "source": [
        "### Choose the number of clusters"
      ],
      "metadata": {
        "id": "197CM9RMhS5I"
      }
    },
    {
      "cell_type": "code",
      "source": [
        "k = 3"
      ],
      "metadata": {
        "id": "RoDplPivhR1s"
      },
      "execution_count": null,
      "outputs": []
    },
    {
      "cell_type": "markdown",
      "source": [
        "### Initialize k centroids randomly"
      ],
      "metadata": {
        "id": "_QMSC1AHhY60"
      }
    },
    {
      "cell_type": "code",
      "source": [
        "kmeans = KMeans(n_clusters=k, init='random').fit(train_X)"
      ],
      "metadata": {
        "id": "H6OHDlnVhea6"
      },
      "execution_count": null,
      "outputs": []
    },
    {
      "cell_type": "markdown",
      "source": [
        "### Repeat the following steps until convergence"
      ],
      "metadata": {
        "id": "NsN8CXnbhjdD"
      }
    },
    {
      "cell_type": "code",
      "source": [
        "\n",
        "while True:\n",
        "    # Assign each pixel to the nearest centroid\n",
        "    train_labels = kmeans.predict(train_X)\n",
        "\n",
        "    # Update the position of each centroid to the mean of the pixels assigned to it\n",
        "    old_centroids = kmeans.cluster_centers_.copy()\n",
        "    for i in range(k):\n",
        "        kmeans.cluster_centers_[i] = np.mean(train_X[train_labels == i], axis=0)\n",
        "\n",
        "    # Check for convergence\n",
        "    if np.allclose(kmeans.cluster_centers_, old_centroids):\n",
        "        break"
      ],
      "metadata": {
        "id": "x6S27X00hhxw"
      },
      "execution_count": null,
      "outputs": []
    },
    {
      "cell_type": "markdown",
      "source": [
        "### Loop through all the images in the testing directory"
      ],
      "metadata": {
        "id": "WjYrQcvfhr6e"
      }
    },
    {
      "cell_type": "code",
      "source": [
        "\n",
        "test_img_files = os.listdir(test_dir)\n",
        "for img_file in test_img_files:\n",
        "    # Load the image and convert it to a numpy array\n",
        "    img = np.array(Image.open(os.path.join(test_dir, img_file)))\n",
        "\n",
        "    # Reshape the array so that each pixel is represented by a single row\n",
        "    rows, cols, bands = img.shape\n",
        "    img_data = img.reshape(rows*cols, bands)\n",
        "\n",
        "    # Assign each pixel to the nearest centroid\n",
        "    test_labels = kmeans.predict(img_data)\n",
        "\n",
        "    # Reshape the cluster assignments back into an image for visualization\n",
        "    img_seg = test_labels.reshape(rows, cols)\n",
        "\n",
        "    # Plot the original image and the segmented image side by side\n",
        "    fig, axs = plt.subplots(1, 2, figsize=(10, 5))\n",
        "    axs[0].imshow(img)\n",
        "    axs[0].set_title(\"Original Image\")\n",
        "    axs[1].imshow(img_seg)\n",
        "    axs[1].set_title(\"Segmented Image\")\n",
        "    plt.show()"
      ],
      "metadata": {
        "id": "WSrNKt8ihh5D"
      },
      "execution_count": null,
      "outputs": []
    }
  ]
}